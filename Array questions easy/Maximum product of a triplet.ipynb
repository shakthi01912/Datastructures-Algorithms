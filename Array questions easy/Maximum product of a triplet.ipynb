{
 "cells": [
  {
   "cell_type": "code",
   "execution_count": 20,
   "metadata": {},
   "outputs": [
    {
     "data": {
      "text/plain": [
       "(20, 10, 6)"
      ]
     },
     "execution_count": 20,
     "metadata": {},
     "output_type": "execute_result"
    }
   ],
   "source": [
    "arr = [10, 3, 5, 6, 20]\n",
    "\n",
    "\n",
    "def triplet():\n",
    "    n = arr.sort()\n",
    "    # max = arr[-1]* arr[-2] * arr[-3]\n",
    "    return arr[-1] , arr[-2] , arr[-3]\n",
    "                \n",
    "triplet()\n",
    "    "
   ]
  },
  {
   "cell_type": "code",
   "execution_count": 21,
   "metadata": {},
   "outputs": [
    {
     "data": {
      "text/plain": [
       "(-3, -5, -6)"
      ]
     },
     "execution_count": 21,
     "metadata": {},
     "output_type": "execute_result"
    }
   ],
   "source": [
    "arr = [-10, -3, -5, -6, -20]\n",
    "\n",
    "\n",
    "def triplet():\n",
    "    n = arr.sort()\n",
    "    # max = arr[-1]* arr[-2] * arr[-3]\n",
    "    return arr[-1] , arr[-2] , arr[-3]\n",
    "                \n",
    "triplet()\n",
    "    "
   ]
  },
  {
   "cell_type": "code",
   "execution_count": 25,
   "metadata": {},
   "outputs": [
    {
     "name": "stdout",
     "output_type": "stream",
     "text": [
      "168\n"
     ]
    }
   ],
   "source": [
    "import sys\n",
    "\n",
    "arr = [1, -4, 3, -6, 7, 0]\n",
    "\n",
    "\n",
    "def triplet():\n",
    "    max1 = max2 = max3 = -sys.maxsize \n",
    "    min1 = min2 = sys.maxsize\n",
    " \n",
    "    for  i in  arr:\n",
    "        if i > max1:\n",
    "            max3 = max2\n",
    "            max2 = max1\n",
    "            max1 = i    \n",
    "            \n",
    "        elif i > max2:\n",
    "            max3 = max2\n",
    "            max2 = i\n",
    "            \n",
    "        elif i > max3:\n",
    "            max3 = i\n",
    "            \n",
    "        if i < min1:\n",
    "            min2 = min1\n",
    "            min1 = i\n",
    "            \n",
    "        elif i < min2:\n",
    "            min2 = i\n",
    "            \n",
    "    \n",
    "    \n",
    "            \n",
    "    product = max1 * max2 * max3\n",
    "    mixedProduct = min1 * min2 * max1\n",
    "    \n",
    "    return  max( product , mixedProduct )\n",
    "    \n",
    "\n",
    "            \n",
    "            \n",
    "            \n",
    "                \n",
    "print(triplet())"
   ]
  }
 ],
 "metadata": {
  "kernelspec": {
   "display_name": "Python 3",
   "language": "python",
   "name": "python3"
  },
  "language_info": {
   "codemirror_mode": {
    "name": "ipython",
    "version": 3
   },
   "file_extension": ".py",
   "mimetype": "text/x-python",
   "name": "python",
   "nbconvert_exporter": "python",
   "pygments_lexer": "ipython3",
   "version": "3.12.8"
  }
 },
 "nbformat": 4,
 "nbformat_minor": 2
}
