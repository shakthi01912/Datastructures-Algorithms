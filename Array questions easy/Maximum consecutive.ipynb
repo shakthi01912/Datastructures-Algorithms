{
 "cells": [
  {
   "cell_type": "markdown",
   "metadata": {},
   "source": [
    "https://www.geeksforgeeks.org/maximum-consecutive-ones-or-zeros-in-a-binary-array/"
   ]
  },
  {
   "cell_type": "code",
   "execution_count": 20,
   "metadata": {},
   "outputs": [
    {
     "name": "stdout",
     "output_type": "stream",
     "text": [
      "1 1 same value\n",
      "1 occurence\n",
      " \n",
      "max =>  1\n",
      "1 1 same value\n",
      "2 occurence\n",
      " \n",
      "max =>  2\n",
      "1 0  not  same  value\n",
      "upadted I ->  0\n",
      "reset 1\n",
      "0 0 same value\n",
      "2 occurence\n",
      " \n",
      "0 1  not  same  value\n",
      "upadted I ->  1\n",
      "reset 1\n",
      "1 0  not  same  value\n",
      "upadted I ->  0\n",
      "reset 1\n",
      "0 1  not  same  value\n",
      "upadted I ->  1\n",
      "reset 1\n",
      "1 0  not  same  value\n",
      "upadted I ->  0\n",
      "reset 1\n",
      "0 1  not  same  value\n",
      "upadted I ->  1\n",
      "reset 1\n",
      "1 1 same value\n",
      "2 occurence\n",
      " \n",
      "1 1 same value\n",
      "3 occurence\n",
      " \n",
      "max =>  3\n",
      "1 1 same value\n",
      "4 occurence\n",
      " \n",
      "max =>  4\n"
     ]
    },
    {
     "data": {
      "text/plain": [
       "4"
      ]
     },
     "execution_count": 20,
     "metadata": {},
     "output_type": "execute_result"
    }
   ],
   "source": [
    "arr = [1, 1, 0, 0, 1, 0, 1, 0, 1, 1, 1, 1]\n",
    "\n",
    "def maxConsec():\n",
    "    occ = 0\n",
    "    mx = 0\n",
    "    \n",
    "    i = arr[0]\n",
    "    \n",
    "    for j in arr:\n",
    "        if i == j:\n",
    "            print( i , j, \"same value\")\n",
    "            occ += 1\n",
    "            print( occ, \"occurence\")\n",
    "            print(\" \")\n",
    "           \n",
    "        \n",
    "        elif i != j:\n",
    "            print( i , j, \" not  same  value\")\n",
    "            i = j\n",
    "            \n",
    "            print(\"upadted I -> \" , i)\n",
    "            occ = 1\n",
    "            print(\"reset\" , occ)\n",
    "            \n",
    "        if mx < occ:\n",
    "            mx = occ\n",
    "            print(\"max => \", mx)\n",
    "        \n",
    "    \n",
    "    \n",
    "    \n",
    "    return mx\n",
    "\n",
    "maxConsec()"
   ]
  },
  {
   "cell_type": "code",
   "execution_count": 21,
   "metadata": {},
   "outputs": [
    {
     "name": "stdout",
     "output_type": "stream",
     "text": [
      "4\n"
     ]
    }
   ],
   "source": [
    "arr = [1, 1, 0, 0, 1, 0, 1, 0, 1, 1, 1, 1]\n",
    "\n",
    "def maxConsec():\n",
    "    occ = 0\n",
    "    mx = 0\n",
    "    i = arr[0]\n",
    "    \n",
    "    for j in arr:\n",
    "        if i == j:\n",
    "            occ += 1\n",
    "        else:\n",
    "            i = j\n",
    "            occ = 1\n",
    "        \n",
    "        if mx < occ:\n",
    "            mx = occ\n",
    "    \n",
    "    return mx\n",
    "\n",
    "print(maxConsec())"
   ]
  },
  {
   "cell_type": "code",
   "execution_count": 22,
   "metadata": {},
   "outputs": [
    {
     "name": "stdout",
     "output_type": "stream",
     "text": [
      "4\n"
     ]
    }
   ],
   "source": [
    "arr = [1, 1, 0, 0, 1, 0, 1, 0, 1, 1, 1, 1]\n",
    "\n",
    "def maxConsec():\n",
    "    occ = 1\n",
    "    mx = 1\n",
    "    \n",
    "    for idx in range(1, len(arr)):\n",
    "        if arr[idx] == arr[idx - 1]:\n",
    "            occ += 1\n",
    "        else:\n",
    "            occ = 1\n",
    "        \n",
    "        mx = max(mx, occ)\n",
    "    \n",
    "    return mx\n",
    "\n",
    "print(maxConsec())"
   ]
  }
 ],
 "metadata": {
  "kernelspec": {
   "display_name": "Python 3",
   "language": "python",
   "name": "python3"
  },
  "language_info": {
   "codemirror_mode": {
    "name": "ipython",
    "version": 3
   },
   "file_extension": ".py",
   "mimetype": "text/x-python",
   "name": "python",
   "nbconvert_exporter": "python",
   "pygments_lexer": "ipython3",
   "version": "3.12.8"
  }
 },
 "nbformat": 4,
 "nbformat_minor": 2
}
