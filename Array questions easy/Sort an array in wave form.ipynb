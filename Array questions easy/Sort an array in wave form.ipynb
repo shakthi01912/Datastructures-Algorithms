{
 "cells": [
  {
   "cell_type": "markdown",
   "metadata": {},
   "source": [
    "https://www.geeksforgeeks.org/sort-array-wave-form-2/"
   ]
  },
  {
   "cell_type": "code",
   "execution_count": 4,
   "metadata": {},
   "outputs": [
    {
     "data": {
      "text/plain": [
       "[10, 5, 6, 2, 20, 3, 100, 80]"
      ]
     },
     "execution_count": 4,
     "metadata": {},
     "output_type": "execute_result"
    }
   ],
   "source": [
    "arr = [10, 5, 6, 3, 2, 20, 100, 80]\n",
    "\n",
    "\n",
    "def sortWave():\n",
    "    \n",
    "    for i in range(0, len(arr) , 2):\n",
    "        if i > 0 and arr[i] < arr[i-1]:\n",
    "            arr[i], arr[i-1] = arr[i-1], arr[i]\n",
    "        if i < len(arr)-1 and arr[i] < arr[i+1]:\n",
    "            arr[i], arr[i+1] = arr[i+1], arr[i]\n",
    "    return arr\n",
    "\n",
    "sortWave()"
   ]
  }
 ],
 "metadata": {
  "kernelspec": {
   "display_name": "Python 3",
   "language": "python",
   "name": "python3"
  },
  "language_info": {
   "codemirror_mode": {
    "name": "ipython",
    "version": 3
   },
   "file_extension": ".py",
   "mimetype": "text/x-python",
   "name": "python",
   "nbconvert_exporter": "python",
   "pygments_lexer": "ipython3",
   "version": "3.12.8"
  }
 },
 "nbformat": 4,
 "nbformat_minor": 2
}
