{
 "cells": [
  {
   "cell_type": "markdown",
   "metadata": {},
   "source": [
    "https://www.geeksforgeeks.org/move-zeroes-end-array/"
   ]
  },
  {
   "cell_type": "code",
   "execution_count": 15,
   "metadata": {},
   "outputs": [
    {
     "name": "stdout",
     "output_type": "stream",
     "text": [
      "[1, 2, 4, 3, 5, 0, 0, 0, 0]\n"
     ]
    }
   ],
   "source": [
    "arr = [1, 2, 0,0,  4, 3, 0, 5, 0]\n",
    "\n",
    "def move_zeroes_to_end(arr):\n",
    "    position = 0  \n",
    "\n",
    "    for i in range(len(arr)):\n",
    "        if arr[i] != 0:\n",
    "            arr[i], arr[position] = arr[position], arr[i]\n",
    "            position += 1\n",
    "\n",
    "    return arr\n",
    "\n",
    "print(move_zeroes_to_end(arr))"
   ]
  },
  {
   "cell_type": "code",
   "execution_count": 12,
   "metadata": {},
   "outputs": [
    {
     "name": "stdout",
     "output_type": "stream",
     "text": [
      "2\n",
      "0 4 found numeric val\n",
      "[1, 2, 4, 0, 3, 0, 5, 0] updated\n",
      "3\n",
      "0 3 found numeric val\n",
      "[1, 2, 4, 3, 0, 0, 5, 0] updated\n",
      "5\n",
      "0 5 found numeric val\n",
      "[1, 2, 4, 3, 0, 5, 0, 0] updated\n"
     ]
    },
    {
     "ename": "IndexError",
     "evalue": "list index out of range",
     "output_type": "error",
     "traceback": [
      "\u001b[31m---------------------------------------------------------------------------\u001b[39m",
      "\u001b[31mIndexError\u001b[39m                                Traceback (most recent call last)",
      "\u001b[36mCell\u001b[39m\u001b[36m \u001b[39m\u001b[32mIn[12]\u001b[39m\u001b[32m, line 16\u001b[39m\n\u001b[32m     14\u001b[39m         \u001b[38;5;28;01melif\u001b[39;00m i == (n-\u001b[32m1\u001b[39m):\n\u001b[32m     15\u001b[39m             \u001b[38;5;28;01mreturn\u001b[39;00m arr      \n\u001b[32m---> \u001b[39m\u001b[32m16\u001b[39m \u001b[43mmoveZero\u001b[49m\u001b[43m(\u001b[49m\u001b[43m)\u001b[49m\n",
      "\u001b[36mCell\u001b[39m\u001b[36m \u001b[39m\u001b[32mIn[12]\u001b[39m\u001b[32m, line 6\u001b[39m, in \u001b[36mmoveZero\u001b[39m\u001b[34m()\u001b[39m\n\u001b[32m      4\u001b[39m n = \u001b[38;5;28mlen\u001b[39m(arr)\n\u001b[32m      5\u001b[39m \u001b[38;5;28;01mfor\u001b[39;00m i \u001b[38;5;129;01min\u001b[39;00m \u001b[38;5;28mrange\u001b[39m(n):\n\u001b[32m----> \u001b[39m\u001b[32m6\u001b[39m     \u001b[38;5;28;01mif\u001b[39;00m arr[i ]== \u001b[32m0\u001b[39m \u001b[38;5;129;01mand\u001b[39;00m \u001b[43marr\u001b[49m\u001b[43m[\u001b[49m\u001b[43mi\u001b[49m\u001b[43m+\u001b[49m\u001b[32;43m1\u001b[39;49m\u001b[43m]\u001b[49m > \u001b[32m0\u001b[39m:\n\u001b[32m      7\u001b[39m         \u001b[38;5;28mprint\u001b[39m(i)\n\u001b[32m      8\u001b[39m         \u001b[38;5;28mprint\u001b[39m(arr[i ], arr[i+\u001b[32m1\u001b[39m ] , \u001b[33m\"\u001b[39m\u001b[33mfound numeric val\u001b[39m\u001b[33m\"\u001b[39m)\n",
      "\u001b[31mIndexError\u001b[39m: list index out of range"
     ]
    }
   ],
   "source": [
    "arr = [1, 2, 0, 4, 3, 0, 5, 0]\n",
    "\n",
    "def moveZero():\n",
    "    n = len(arr)\n",
    "    for i in range(n):\n",
    "        if arr[i ]== 0 and arr[i+1] > 0:\n",
    "            print(i)\n",
    "            print(arr[i ], arr[i+1 ] , \"found numeric val\")\n",
    "            temp = arr[i+1]\n",
    "            arr[i+1] = arr[i]\n",
    "            arr[i] = temp\n",
    "            print(arr  , \"updated\")\n",
    "            \n",
    "        elif i == (n-1):\n",
    "            return arr      \n",
    "moveZero()"
   ]
  }
 ],
 "metadata": {
  "kernelspec": {
   "display_name": "Python 3",
   "language": "python",
   "name": "python3"
  },
  "language_info": {
   "codemirror_mode": {
    "name": "ipython",
    "version": 3
   },
   "file_extension": ".py",
   "mimetype": "text/x-python",
   "name": "python",
   "nbconvert_exporter": "python",
   "pygments_lexer": "ipython3",
   "version": "3.12.8"
  }
 },
 "nbformat": 4,
 "nbformat_minor": 2
}
